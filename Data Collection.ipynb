{
 "cells": [
  {
   "cell_type": "markdown",
   "id": "c23e3841",
   "metadata": {},
   "source": [
    "# Data Collection"
   ]
  },
  {
   "cell_type": "markdown",
   "id": "abf5f97c",
   "metadata": {},
   "source": [
    "## Data set:"
   ]
  },
  {
   "cell_type": "markdown",
   "id": "cc37feaa",
   "metadata": {},
   "source": [
    "The Metro Interstate dataset provides hourly information on the traffic volume of the West-bound lane of Interstate-94 (I-94) in the US. It covers a period from 2012 to 2018 and includes additional data such as weather reports and temperature records on an hourly basis. This dataset is valuable for analyzing the traffic patterns over time, predicting rush hours, weather forecasting, and aiding in the planning of interstate and highway expansions in the US. It also incorporates hourly weather features and accounts for holidays, allowing for the assessment of their impact on traffic volume.We have got this dataset from Garlan, E.; Available from: https://www.kaggle.com/code/ramyahr/metro-interstate-traffic-volume"
   ]
  },
  {
   "cell_type": "markdown",
   "id": "6f5489a5",
   "metadata": {},
   "source": [
    "## Deep learning approach (LSTM and RNN):"
   ]
  },
  {
   "cell_type": "markdown",
   "id": "ddbefdca",
   "metadata": {},
   "source": [
    "The aim of the project is to build RNN with LSTM model that makes the of prediction of the traffic flow"
   ]
  }
 ],
 "metadata": {
  "kernelspec": {
   "display_name": "Python 3 (ipykernel)",
   "language": "python",
   "name": "python3"
  },
  "language_info": {
   "codemirror_mode": {
    "name": "ipython",
    "version": 3
   },
   "file_extension": ".py",
   "mimetype": "text/x-python",
   "name": "python",
   "nbconvert_exporter": "python",
   "pygments_lexer": "ipython3",
   "version": "3.11.5"
  }
 },
 "nbformat": 4,
 "nbformat_minor": 5
}
